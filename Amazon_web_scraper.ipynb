{
  "nbformat": 4,
  "nbformat_minor": 0,
  "metadata": {
    "colab": {
      "provenance": []
    },
    "kernelspec": {
      "name": "python3",
      "display_name": "Python 3"
    },
    "language_info": {
      "name": "python"
    }
  },
  "cells": [
    {
      "cell_type": "code",
      "execution_count": 1,
      "metadata": {
        "id": "yWW3kdEyMgOy"
      },
      "outputs": [],
      "source": [
        "from bs4 import BeautifulSoup\n",
        "import requests\n",
        "import time\n",
        "import datetime\n",
        "\n",
        "import smtplib"
      ]
    },
    {
      "cell_type": "code",
      "source": [
        "import requests\n",
        "from bs4 import BeautifulSoup\n",
        "\n",
        "URL = \"https://www.amazon.com/dp/B000JQFX1G\"\n",
        "headers = {\n",
        "    \"User-Agent\": \"Mozilla/5.0 (Windows NT 10.0; Win64; x64) AppleWebKit/537.36 (KHTML, like Gecko) Chrome/140.0.0.0 Safari/537.36\",\n",
        "    \"Accept-Language\": \"en-US,en;q=0.9\",\n",
        "}\n",
        "\n",
        "page = requests.get(URL, headers=headers)\n",
        "soup = BeautifulSoup(page.content, \"html.parser\")\n",
        "\n",
        "title = soup.find(\"span\", id=\"productTitle\")\n",
        "if title:\n",
        "    print(title.get_text(strip=True))\n",
        "else:\n",
        "    print(\"Could not find product title (Amazon may be blocking the request).\")\n",
        "title = title.get_text(strip=True)\n",
        "price = soup.find(\"span\", class_=\"a-price-whole\")\n",
        "if price:\n",
        "    print(price.get_text(strip=True))\n",
        "else:\n",
        "    print(\"Could not find product price.\")\n",
        "price = price.get_text(strip=True)\n"
      ],
      "metadata": {
        "colab": {
          "base_uri": "https://localhost:8080/"
        },
        "id": "HGwuuMcIzvT5",
        "outputId": "ca34e6f4-0b5c-4c81-a345-55cc29e029d1"
      },
      "execution_count": 28,
      "outputs": [
        {
          "output_type": "stream",
          "name": "stdout",
          "text": [
            "Invicta Men's Pro Diver Collection Coin-Edge Automatic Watch\n",
            "87.\n"
          ]
        }
      ]
    },
    {
      "cell_type": "code",
      "source": [
        "import datetime\n",
        "\n",
        "today = datetime.date.today()\n",
        "\n",
        "print(today)"
      ],
      "metadata": {
        "colab": {
          "base_uri": "https://localhost:8080/"
        },
        "id": "mjyRugbgv4yy",
        "outputId": "f89d3c20-b7c5-43bb-c04e-7a14c7a56966"
      },
      "execution_count": 15,
      "outputs": [
        {
          "output_type": "stream",
          "name": "stdout",
          "text": [
            "2025-09-13\n"
          ]
        }
      ]
    },
    {
      "cell_type": "code",
      "source": [
        "import csv\n",
        "\n",
        "header = ['Title', 'Price', 'Date']\n",
        "data = [title, price, today]\n",
        "\n",
        "\n",
        "with open('AmazonWebScraperDataset.csv', 'w', newline='', encoding='UTF8') as f:\n",
        "    writer = csv.writer(f)\n",
        "    writer.writerow(header)\n",
        "    writer.writerow(data)"
      ],
      "metadata": {
        "id": "sVrXUSXg1SMb"
      },
      "execution_count": 16,
      "outputs": []
    },
    {
      "cell_type": "code",
      "source": [
        "import pandas as pd\n",
        "\n",
        "df = pd.read_csv('/content/AmazonWebScraperDataset.csv')\n",
        "\n",
        "print(df)"
      ],
      "metadata": {
        "colab": {
          "base_uri": "https://localhost:8080/"
        },
        "id": "pMbtn91s2hTy",
        "outputId": "081a1629-e172-4836-b562-23747a965353"
      },
      "execution_count": 19,
      "outputs": [
        {
          "output_type": "stream",
          "name": "stdout",
          "text": [
            "                                               Title  Price        Date\n",
            "0  Invicta Men's Pro Diver Collection Coin-Edge A...   87.0  2025-09-13\n",
            "1  Invicta Men's Pro Diver Collection Coin-Edge A...   87.0  2025-09-13\n"
          ]
        }
      ]
    },
    {
      "cell_type": "code",
      "source": [
        "with open('AmazonWebScraperDataset.csv', 'a+', newline='', encoding='UTF8') as f:\n",
        "    writer = csv.writer(f)\n",
        "    writer.writerow(data)"
      ],
      "metadata": {
        "id": "ugqGheo52nMD"
      },
      "execution_count": 18,
      "outputs": []
    },
    {
      "cell_type": "code",
      "source": [
        "def check_price():\n",
        "    URL = 'https://www.amazon.com/Funny-Data-Systems-Business-Analyst/dp/B07FNW9FGJ/ref=sr_1_3?dchild=1&keywords=data%2Banalyst%2Btshirt&qid=1626655184&sr=8-3&customId=B0752XJYNL&th=1'\n",
        "\n",
        "    headers = {\"User-Agent\": \"Mozilla/5.0 (Windows NT 10.0; Win64; x64) AppleWebKit/537.36 (KHTML, like Gecko) Chrome/78.0.3904.108 Safari/537.36\", \"Accept-Encoding\":\"gzip, deflate\", \"Accept\":\"text/html,application/xhtml+xml,application/xml;q=0.9,*/*;q=0.8\", \"DNT\":\"1\",\"Connection\":\"close\", \"Upgrade-Insecure-Requests\":\"1\"}\n",
        "\n",
        "    page = requests.get(URL, headers=headers)\n",
        "\n",
        "    soup1 = BeautifulSoup(page.content, \"html.parser\")\n",
        "\n",
        "    soup2 = BeautifulSoup(soup1.prettify(), \"html.parser\")\n",
        "\n",
        "    title = soup.find(\"span\", id=\"productTitle\").get_text(strip=True)\n",
        "\n",
        "    price = soup.find(\"span\", class_=\"a-price-whole\").get_text(strip=True)\n",
        "    price = price[:-1]\n",
        "    import datetime\n",
        "\n",
        "    today = datetime.date.today()\n",
        "\n",
        "    import csv\n",
        "\n",
        "    header = ['Title', 'Price', 'Date']\n",
        "    data = [title, price, today]\n",
        "\n",
        "    with open('AmazonWebScraperDataset.csv', 'a+', newline='', encoding='UTF8') as f:\n",
        "        writer = csv.writer(f)\n",
        "        writer.writerow(data)\n",
        "    if(int(price)<90):\n",
        "        send_mail()\n"
      ],
      "metadata": {
        "id": "k3rJ7TMB6O37"
      },
      "execution_count": 53,
      "outputs": []
    },
    {
      "cell_type": "code",
      "source": [
        "print(price[:-1])"
      ],
      "metadata": {
        "colab": {
          "base_uri": "https://localhost:8080/"
        },
        "id": "yXrsim3ACi-p",
        "outputId": "6ca5199b-6c94-494a-c3cd-c2f6ff4322ee"
      },
      "execution_count": 44,
      "outputs": [
        {
          "output_type": "stream",
          "name": "stdout",
          "text": [
            "87\n"
          ]
        }
      ]
    },
    {
      "cell_type": "code",
      "source": [
        "while(True):\n",
        "    check_price()\n",
        "    time.sleep(86400)"
      ],
      "metadata": {
        "colab": {
          "base_uri": "https://localhost:8080/",
          "height": 183
        },
        "id": "AKu4cJ-H6QyB",
        "outputId": "5f54eca5-ed63-4961-e930-7d1e4e8adb4f"
      },
      "execution_count": 58,
      "outputs": [
        {
          "output_type": "error",
          "ename": "KeyboardInterrupt",
          "evalue": "",
          "traceback": [
            "\u001b[0;31m---------------------------------------------------------------------------\u001b[0m",
            "\u001b[0;31mKeyboardInterrupt\u001b[0m                         Traceback (most recent call last)",
            "\u001b[0;32m/tmp/ipython-input-3957971784.py\u001b[0m in \u001b[0;36m<cell line: 0>\u001b[0;34m()\u001b[0m\n\u001b[1;32m      1\u001b[0m \u001b[0;32mwhile\u001b[0m\u001b[0;34m(\u001b[0m\u001b[0;32mTrue\u001b[0m\u001b[0;34m)\u001b[0m\u001b[0;34m:\u001b[0m\u001b[0;34m\u001b[0m\u001b[0;34m\u001b[0m\u001b[0m\n\u001b[1;32m      2\u001b[0m     \u001b[0mcheck_price\u001b[0m\u001b[0;34m(\u001b[0m\u001b[0;34m)\u001b[0m\u001b[0;34m\u001b[0m\u001b[0;34m\u001b[0m\u001b[0m\n\u001b[0;32m----> 3\u001b[0;31m     \u001b[0mtime\u001b[0m\u001b[0;34m.\u001b[0m\u001b[0msleep\u001b[0m\u001b[0;34m(\u001b[0m\u001b[0;36m86400\u001b[0m\u001b[0;34m)\u001b[0m\u001b[0;34m\u001b[0m\u001b[0;34m\u001b[0m\u001b[0m\n\u001b[0m",
            "\u001b[0;31mKeyboardInterrupt\u001b[0m: "
          ]
        }
      ]
    },
    {
      "cell_type": "code",
      "source": [
        "df = pd.read_csv('/content/AmazonWebScraperDataset.csv')\n",
        "print(df)"
      ],
      "metadata": {
        "colab": {
          "base_uri": "https://localhost:8080/"
        },
        "id": "wxRJuBJy6VNN",
        "outputId": "348f54ce-89b6-40fb-c339-ce2745ab44a9"
      },
      "execution_count": 47,
      "outputs": [
        {
          "output_type": "stream",
          "name": "stdout",
          "text": [
            "                                               Title  Price        Date\n",
            "0  Invicta Men's Pro Diver Collection Coin-Edge A...   87.0  2025-09-13\n",
            "1  Invicta Men's Pro Diver Collection Coin-Edge A...   87.0  2025-09-13\n",
            "2  Invicta Men's Pro Diver Collection Coin-Edge A...    7.0  2025-09-13\n",
            "3  Invicta Men's Pro Diver Collection Coin-Edge A...    7.0  2025-09-13\n",
            "4  Invicta Men's Pro Diver Collection Coin-Edge A...    7.0  2025-09-13\n",
            "5  Invicta Men's Pro Diver Collection Coin-Edge A...   87.0  2025-09-13\n",
            "6  Invicta Men's Pro Diver Collection Coin-Edge A...   87.0  2025-09-13\n",
            "7  Invicta Men's Pro Diver Collection Coin-Edge A...   87.0  2025-09-13\n",
            "8  Invicta Men's Pro Diver Collection Coin-Edge A...   87.0  2025-09-13\n"
          ]
        }
      ]
    },
    {
      "cell_type": "code",
      "source": [
        "def send_mail():\n",
        "    server = smtplib.SMTP_SSL('smtp.gmail.com',465)\n",
        "    server.ehlo()\n",
        "    #server.starttls()\n",
        "    server.ehlo()\n",
        "    server.login('pranavaj3721@gmail.com','xxxxxxx')\n",
        "\n",
        "    subject = \"The product you want is below $90! Now is your chance to buy!\"\n",
        "    body = \"Hey, The product is now available at your desirable price.Link here:https://www.amazon.com/Funny-Data-Systems-Business-Analyst/dp/B07FNW9FGJ/ref=sr_1_3?dchild=1&keywords=data%2Banalyst%2Btshirt&qid=1626655184&sr=8-3&customId=B0752XJYNL&th=1\"\n",
        "\n",
        "    msg = f\"Subject: {subject}\\n\\n{body}\"\n",
        "\n",
        "    server.sendmail(\n",
        "        'pranavaj3721@gmail.com',\n",
        "        'pranavaj3721@gmail.com',\n",
        "        msg\n",
        "\n",
        "    )"
      ],
      "metadata": {
        "id": "lyJMWyNh6bDA"
      },
      "execution_count": 57,
      "outputs": []
    },
    {
      "cell_type": "code",
      "source": [],
      "metadata": {
        "id": "GjaQMUQiCGEL"
      },
      "execution_count": null,
      "outputs": []
    }
  ]
}